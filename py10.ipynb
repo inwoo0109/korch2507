{
 "cells": [
  {
   "cell_type": "markdown",
   "id": "74e4071e",
   "metadata": {},
   "source": [
    "## 영상필터처리"
   ]
  },
  {
   "cell_type": "code",
   "execution_count": 8,
   "id": "bee62150",
   "metadata": {},
   "outputs": [
    {
     "ename": "error",
     "evalue": "OpenCV(4.12.0) D:\\a\\opencv-python\\opencv-python\\opencv\\modules\\imgproc\\src\\color.cpp:199: error: (-215:Assertion failed) !_src.empty() in function 'cv::cvtColor'\n",
     "output_type": "error",
     "traceback": [
      "\u001b[31m---------------------------------------------------------------------------\u001b[39m",
      "\u001b[31merror\u001b[39m                                     Traceback (most recent call last)",
      "\u001b[36mCell\u001b[39m\u001b[36m \u001b[39m\u001b[32mIn[8]\u001b[39m\u001b[32m, line 7\u001b[39m\n\u001b[32m      3\u001b[39m \u001b[38;5;28;01mimport\u001b[39;00m\u001b[38;5;250m \u001b[39m\u001b[34;01mmatplotlib\u001b[39;00m\u001b[34;01m.\u001b[39;00m\u001b[34;01mpyplot\u001b[39;00m\u001b[38;5;250m \u001b[39m\u001b[38;5;28;01mas\u001b[39;00m\u001b[38;5;250m \u001b[39m\u001b[34;01mplt\u001b[39;00m\n\u001b[32m      5\u001b[39m img = cv2.imread(\u001b[33m\"\u001b[39m\u001b[33mC:\u001b[39m\u001b[38;5;130;01m\\\\\u001b[39;00m\u001b[33mUsers\u001b[39m\u001b[38;5;130;01m\\\\\u001b[39;00m\u001b[33muser\u001b[39m\u001b[38;5;130;01m\\\\\u001b[39;00m\u001b[33mPictures\u001b[39m\u001b[38;5;130;01m\\\\\u001b[39;00m\u001b[33mpublic\u001b[39m\u001b[38;5;130;01m\\\\\u001b[39;00m\u001b[33mml_sample.jpg\u001b[39m\u001b[33m\"\u001b[39m)\n\u001b[32m----> \u001b[39m\u001b[32m7\u001b[39m img_rgb = \u001b[43mcv2\u001b[49m\u001b[43m.\u001b[49m\u001b[43mcvtColor\u001b[49m\u001b[43m(\u001b[49m\u001b[43mimg\u001b[49m\u001b[43m,\u001b[49m\u001b[43m \u001b[49m\u001b[43mcv2\u001b[49m\u001b[43m.\u001b[49m\u001b[43mCOLOR_BGR2RGB\u001b[49m\u001b[43m)\u001b[49m\n\u001b[32m      8\u001b[39m blurred = cv2.GaussianBlur(img, (\u001b[32m7\u001b[39m,\u001b[32m7\u001b[39m), \u001b[32m0\u001b[39m)\n\u001b[32m      9\u001b[39m edge = cv2.Canny(blurred, \u001b[32m50\u001b[39m, \u001b[32m150\u001b[39m)\n",
      "\u001b[31merror\u001b[39m: OpenCV(4.12.0) D:\\a\\opencv-python\\opencv-python\\opencv\\modules\\imgproc\\src\\color.cpp:199: error: (-215:Assertion failed) !_src.empty() in function 'cv::cvtColor'\n"
     ]
    }
   ],
   "source": [
    "import cv2\n",
    "import numpy as np\n",
    "import matplotlib.pyplot as plt\n",
    "\n",
    "img = cv2.imread(\"C:\\\\Users\\\\user\\\\Pictures\\\\public\\\\ml_sample.jpg\")\n",
    "\n",
    "img_rgb = cv2.cvtColor(img, cv2.COLOR_BGR2RGB)\n",
    "blurred = cv2.GaussianBlur(img, (7,7), 0)\n",
    "edge = cv2.Canny(blurred, 50, 150)\n",
    "\n",
    "plt.subplot(1,2,1)\n",
    "plt.imshow(img, cmap = \"gray\")\n",
    "plt.title(\"ori\")\n",
    "plt.axis(\"off\")\n",
    "\n",
    "plt.subplot(1,2,2)\n",
    "plt.imshow(edge, cmap = \"gray\")\n",
    "plt.title(\"edge\")\n",
    "plt.axis(\"off\")\n",
    "\n",
    "plt.show()"
   ]
  },
  {
   "cell_type": "code",
   "execution_count": null,
   "id": "b6451582",
   "metadata": {},
   "outputs": [],
   "source": [
    "import cv2\n",
    "import numpy as np\n",
    "from sklearn.svm import OneClassSVM\n",
    "\n",
    "video_path = \"C:\\\\Users\\\\user\\\\Pictures\\\\public\\\\old_scada.mp4\"\n",
    "cap = cv2.VideoCapture(video_path)\n",
    "\n",
    "\n",
    "def mask_time(frame):\n",
    "    frame[54:94,433:445] = 0 # 검은색,  cv2에서는 y 와 x 가 거꾸로 \n",
    "    frame[298:315,122:310] = 0 # 검은색, cv2에서는 y 와 x 가 거꾸로 \n",
    "    return frame\n",
    "\n",
    "def extract_feature(frame):\n",
    "    frame = mask_time(frame)\n",
    "    blurred = cv2.GaussianBlur(frame, (10, 10,7),0)\n",
    "\n",
    "    gray = cv2.cvtColor(frame, cv2.COLOR_BGR2GRAY) # 그레이스케일 , 성능을 위해서 중요, 체널 1개\n",
    "    resized = cv2.resize(gray,(32, 32)) # 크기축소 (전체구조를 요약) 320 X 446 -> 32 X 32 로 바꿔서 속도향상, 메모리 절감\n",
    "    feature = resized.flatten() / 255.0 # 정규화 백터화\n",
    "    return feature\n",
    "\n",
    "train_feature = []\n",
    "test_feature = []\n",
    "frame_idx = 0\n",
    "while True:\n",
    "    ret, frame = cap.read()\n",
    "    if not ret: break\n",
    "\n",
    "    feature = extract_feature(frame)\n",
    "\n",
    "    if frame_idx == 313:\n",
    "        plt.imshow(dege, cmap = \"gray\")\n",
    "        plt.rangew(dege, cmap = \"gray\")\n",
    "        plt.imshow(dege, cmap = \"gray\")\n",
    "        \n",
    "    if frame_idx <= 828:\n",
    "        train_feature.append(feature)\n",
    "    elif 828 < frame_idx < 1337:\n",
    "        test_feature.append(feature)     \n",
    "    frame_idx += 1 \n",
    "cap.release()\n",
    "X_train = np.array(train_feature)\n",
    "X_test = np.array(test_feature)\n",
    "\n",
    "# One - Class SVM 학습\n",
    "ocsvm = OneClassSVM(kernel=\"rbf\", gamma=\"auto\", nu=0.05)\n",
    "# linear , poly, sigmoid , \n",
    "# rbf: 비선형, 가우시안, 대부분 사용, 기본값\n",
    "# gamma=\"auto\" 없애면 기본값 'scale'\n",
    "# nu = 이상치 값 (0 ~ 1)\n",
    "\n",
    "# 훈련\n",
    "ocsvm.fit(X_train) \n",
    "\n",
    "# 이상 탐지\n",
    "pred = ocsvm.predict(X_test) # 1:정상 , -1: 비정상\n",
    "abnormal_idx = np.where(pred==-1)[0] + 828\n",
    "print(\"NG(공정 B의 의심)프레임:\", abnormal_idx, len(abnormal_idx) )\n"
   ]
  }
 ],
 "metadata": {
  "kernelspec": {
   "display_name": "Python 3",
   "language": "python",
   "name": "python3"
  },
  "language_info": {
   "codemirror_mode": {
    "name": "ipython",
    "version": 3
   },
   "file_extension": ".py",
   "mimetype": "text/x-python",
   "name": "python",
   "nbconvert_exporter": "python",
   "pygments_lexer": "ipython3",
   "version": "3.13.3"
  }
 },
 "nbformat": 4,
 "nbformat_minor": 5
}
