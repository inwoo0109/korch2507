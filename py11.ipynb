{
 "cells": [
  {
   "cell_type": "markdown",
   "id": "58081c44",
   "metadata": {},
   "source": [
    "## 영상 색상처리"
   ]
  },
  {
   "cell_type": "code",
   "execution_count": null,
   "id": "623540fd",
   "metadata": {},
   "outputs": [
    {
     "ename": "AttributeError",
     "evalue": "module 'cv2' has no attribute 'COLOR_BAYER_BGR2HSV'",
     "output_type": "error",
     "traceback": [
      "\u001b[31m---------------------------------------------------------------------------\u001b[39m",
      "\u001b[31mAttributeError\u001b[39m                            Traceback (most recent call last)",
      "\u001b[36mCell\u001b[39m\u001b[36m \u001b[39m\u001b[32mIn[1]\u001b[39m\u001b[32m, line 36\u001b[39m\n\u001b[32m     33\u001b[39m ret, frame = cap.read()\n\u001b[32m     34\u001b[39m \u001b[38;5;28;01mif\u001b[39;00m \u001b[38;5;129;01mnot\u001b[39;00m ret: \u001b[38;5;28;01mbreak\u001b[39;00m\n\u001b[32m---> \u001b[39m\u001b[32m36\u001b[39m feature, mor = \u001b[43mextract_feature\u001b[49m\u001b[43m(\u001b[49m\u001b[43mframe\u001b[49m\u001b[43m)\u001b[49m\n\u001b[32m     38\u001b[39m \u001b[38;5;28;01mif\u001b[39;00m frame_idx == \u001b[32m313\u001b[39m:\n\u001b[32m     39\u001b[39m     cv2.cvtColor(mor, cv2.COLOR_BAYER_BG2RGB)\n",
      "\u001b[36mCell\u001b[39m\u001b[36m \u001b[39m\u001b[32mIn[1]\u001b[39m\u001b[32m, line 18\u001b[39m, in \u001b[36mextract_feature\u001b[39m\u001b[34m(frame)\u001b[39m\n\u001b[32m     16\u001b[39m frame = mask_time(frame)\n\u001b[32m     17\u001b[39m roi = frame[\u001b[32m139\u001b[39m:\u001b[32m196\u001b[39m, \u001b[32m129\u001b[39m:\u001b[32m445\u001b[39m]\n\u001b[32m---> \u001b[39m\u001b[32m18\u001b[39m hsv = cv2.cvtColor(roi, \u001b[43mcv2\u001b[49m\u001b[43m.\u001b[49m\u001b[43mCOLOR_BAYER_BGR2HSV\u001b[49m)\n\u001b[32m     20\u001b[39m lower_blue = (\u001b[32m80\u001b[39m,\u001b[32m60\u001b[39m,\u001b[32m60\u001b[39m)\n\u001b[32m     21\u001b[39m upper_blue = (\u001b[32m110\u001b[39m,\u001b[32m255\u001b[39m,\u001b[32m255\u001b[39m)\n",
      "\u001b[31mAttributeError\u001b[39m: module 'cv2' has no attribute 'COLOR_BAYER_BGR2HSV'"
     ]
    }
   ],
   "source": [
    "import cv2\n",
    "import numpy as np\n",
    "from sklearn.svm import OneClassSVM\n",
    "import matplotlib as plt\n",
    "\n",
    "video_path = \"C:\\\\Users\\\\user\\\\Pictures\\\\public\\\\old_scada.mp4\"\n",
    "cap = cv2.VideoCapture(video_path)\n",
    "\n",
    "\n",
    "def mask_time(frame):\n",
    "    frame[54:94,433:445] = 0 # 검은색,  cv2에서는 y 와 x 가 거꾸로 \n",
    "    frame[298:315,122:310] = 0 # 검은색, cv2에서는 y 와 x 가 거꾸로 \n",
    "    return frame\n",
    "\n",
    "def extract_feature(frame):\n",
    "    frame = mask_time(frame)\n",
    "    roi = frame[139:196, 129:445]\n",
    "    hsv = cv2.cvtColor(roi, cv2.COLOR_BAYER_BGR2HSV)\n",
    "\n",
    "    lower_blue = (80,60,60)\n",
    "    upper_blue = (110,255,255)\n",
    "\n",
    "    mask = cv2.inRange(hsv, lower_blue, upper_blue)\n",
    "    mor = cv2.morphologyEx(mask, cv2.MORPH_OPEN, np.ones(3,3), np.uint8)\n",
    "  \n",
    "    feature = mor.flatten() / 255.0\n",
    "    return feature, mor\n",
    "\n",
    "train_feature = []\n",
    "test_feature = []\n",
    "frame_idx = 0\n",
    "while True:\n",
    "    ret, frame = cap.read()\n",
    "    if not ret: break\n",
    "\n",
    "    feature, mor = extract_feature(frame)\n",
    "\n",
    "    if frame_idx == 313:\n",
    "        plt.imshow(mor, CMAP = \"gray\")\n",
    "        plt.title(\"fix\")\n",
    "        plt.axis(\"off\")\n",
    "        plt.show()\n",
    "        \n",
    "    if frame_idx <= 828:\n",
    "        train_feature.append(feature)\n",
    "    elif 828 < frame_idx < 1337:\n",
    "        test_feature.append(feature)     \n",
    "    frame_idx += 1 \n",
    "cap.release()\n",
    "X_train = np.array(train_feature)\n",
    "X_test = np.array(test_feature)\n",
    "\n",
    "# One - Class SVM 학습\n",
    "ocsvm = OneClassSVM(kernel=\"rbf\", gamma=\"auto\", nu=0.05)\n",
    "\n",
    "# 훈련\n",
    "ocsvm.fit(X_train) \n",
    "\n",
    "# 이상 탐지\n",
    "pred = ocsvm.predict(X_test) # 1:정상 , -1: 비정상\n",
    "abnormal_idx = np.where(pred==-1)[0] + 828\n",
    "print(\"NG(공정 B의 의심)프레임:\", abnormal_idx, len(abnormal_idx) )\n"
   ]
  },
  {
   "cell_type": "code",
   "execution_count": null,
   "id": "d5d2f9f5",
   "metadata": {},
   "outputs": [],
   "source": [
    "import matplotlib.pyplot as plt\n",
    "cap = cv2.VideoCapture(video_path)\n",
    "\n",
    "\n",
    "for position in abnormal_idx:\n",
    "    cap.set(cv2.CAP_PROP_POS_FRAMES, position)\n",
    "    _, frame = cap.read()\n",
    "    frame = mask_time(frame)\n",
    "    rgb = cv2.cvtColor(frame, cv2.COLOR_BGR2RGB)\n",
    "\n",
    "    plt.subplot(1,2,2)\n",
    "    plt.imshow(rgb)\n",
    "    plt.title(f\"{position}-frame\")\n",
    "    plt.axis(\"off\")\n",
    "    plt.show()\n",
    "\n"
   ]
  }
 ],
 "metadata": {
  "kernelspec": {
   "display_name": "Python 3",
   "language": "python",
   "name": "python3"
  },
  "language_info": {
   "codemirror_mode": {
    "name": "ipython",
    "version": 3
   },
   "file_extension": ".py",
   "mimetype": "text/x-python",
   "name": "python",
   "nbconvert_exporter": "python",
   "pygments_lexer": "ipython3",
   "version": "3.13.3"
  }
 },
 "nbformat": 4,
 "nbformat_minor": 5
}
