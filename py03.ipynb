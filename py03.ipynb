{
 "cells": [
  {
   "cell_type": "markdown",
   "id": "758858a9",
   "metadata": {},
   "source": [
    "## 넘파이"
   ]
  },
  {
   "cell_type": "code",
   "execution_count": 25,
   "id": "1aa5e734",
   "metadata": {},
   "outputs": [],
   "source": [
    "import qrcode\n",
    "import PIL\n",
    "\n",
    "def qrcode_maker(text, filename = \"qr.png\"):\n",
    "    qr = qrcode.make(text)\n",
    "    qr.save(filename)\n",
    "\n"
   ]
  },
  {
   "cell_type": "code",
   "execution_count": 26,
   "id": "973963ed",
   "metadata": {},
   "outputs": [
    {
     "name": "stdout",
     "output_type": "stream",
     "text": [
      "Requirement already satisfied: Pillow in c:\\users\\user\\appdata\\local\\programs\\python\\python313\\lib\\site-packages (11.3.0)\n"
     ]
    },
    {
     "name": "stderr",
     "output_type": "stream",
     "text": [
      "\n",
      "[notice] A new release of pip is available: 25.0.1 -> 25.1.1\n",
      "[notice] To update, run: python.exe -m pip install --upgrade pip\n"
     ]
    }
   ],
   "source": [
    "!pip install Pillow"
   ]
  },
  {
   "cell_type": "code",
   "execution_count": 27,
   "id": "2d179901",
   "metadata": {},
   "outputs": [],
   "source": [
    "qrcode_maker(\"안녕하세요. 인우입니다. QR테스트 중입니다.\")"
   ]
  },
  {
   "cell_type": "code",
   "execution_count": 28,
   "id": "f5d3027f",
   "metadata": {},
   "outputs": [],
   "source": [
    "# numpy\n",
    "\n",
    "import numpy as np\n",
    "data1 = [1,2,3,4,5]\n",
    "data2 = [1,2,3,4,5,6]\n",
    "\n"
   ]
  },
  {
   "cell_type": "code",
   "execution_count": 29,
   "id": "d5988ef3",
   "metadata": {},
   "outputs": [
    {
     "data": {
      "text/plain": [
       "(array([1, 2, 3, 4, 5]), array([1, 2, 3, 4, 5, 6]))"
      ]
     },
     "execution_count": 29,
     "metadata": {},
     "output_type": "execute_result"
    }
   ],
   "source": [
    "arr1 = np.array(data1)\n",
    "arr2 = np.array(data2)\n",
    "\n",
    "arr1, arr2"
   ]
  },
  {
   "cell_type": "code",
   "execution_count": 30,
   "id": "b450b273",
   "metadata": {},
   "outputs": [
    {
     "data": {
      "text/plain": [
       "((5,), dtype('int64'))"
      ]
     },
     "execution_count": 30,
     "metadata": {},
     "output_type": "execute_result"
    }
   ],
   "source": [
    "arr1.shape, arr1.dtype"
   ]
  },
  {
   "cell_type": "code",
   "execution_count": 31,
   "id": "5e6e8d01",
   "metadata": {},
   "outputs": [
    {
     "data": {
      "text/plain": [
       "array([[1, 2, 3],\n",
       "       [4, 5, 6]])"
      ]
     },
     "execution_count": 31,
     "metadata": {},
     "output_type": "execute_result"
    }
   ],
   "source": [
    "arr3 = np.array([[1,2,3],[4,5,6]])\n",
    "\n",
    "arr3"
   ]
  },
  {
   "cell_type": "code",
   "execution_count": 32,
   "id": "16f8cad3",
   "metadata": {},
   "outputs": [
    {
     "data": {
      "text/plain": [
       "((2, 3), dtype('int64'))"
      ]
     },
     "execution_count": 32,
     "metadata": {},
     "output_type": "execute_result"
    }
   ],
   "source": [
    "arr3.shape, arr3.dtype"
   ]
  },
  {
   "cell_type": "code",
   "execution_count": 33,
   "id": "840f16f5",
   "metadata": {},
   "outputs": [
    {
     "data": {
      "text/plain": [
       "(array([0., 0., 0., 0., 0., 0., 0., 0., 0., 0.]), (10,), dtype('float64'))"
      ]
     },
     "execution_count": 33,
     "metadata": {},
     "output_type": "execute_result"
    }
   ],
   "source": [
    "zz = np.zeros(10)\n",
    "zz, zz.shape, zz.dtype"
   ]
  },
  {
   "cell_type": "code",
   "execution_count": 34,
   "id": "d0cdade9",
   "metadata": {},
   "outputs": [
    {
     "data": {
      "text/plain": [
       "(array([[0., 0., 0., 0., 0.],\n",
       "        [0., 0., 0., 0., 0.],\n",
       "        [0., 0., 0., 0., 0.]]),\n",
       " (3, 5),\n",
       " dtype('float64'))"
      ]
     },
     "execution_count": 34,
     "metadata": {},
     "output_type": "execute_result"
    }
   ],
   "source": [
    "zzz = np.zeros((3,5))\n",
    "zzz, zzz.shape, zzz.dtype"
   ]
  },
  {
   "cell_type": "code",
   "execution_count": 35,
   "id": "056612d2",
   "metadata": {},
   "outputs": [
    {
     "data": {
      "text/plain": [
       "(array([1., 1., 1., 1., 1., 1., 1.]), (7,), dtype('float64'))"
      ]
     },
     "execution_count": 35,
     "metadata": {},
     "output_type": "execute_result"
    }
   ],
   "source": [
    "oo = np.ones(7)\n",
    "oo, oo.shape, oo.dtype"
   ]
  },
  {
   "cell_type": "code",
   "execution_count": 36,
   "id": "9e76c3f0",
   "metadata": {},
   "outputs": [
    {
     "data": {
      "text/plain": [
       "(array([[1., 1., 1., 1., 1., 1., 1., 1., 1., 1.],\n",
       "        [1., 1., 1., 1., 1., 1., 1., 1., 1., 1.]]),\n",
       " (2, 10),\n",
       " dtype('float64'))"
      ]
     },
     "execution_count": 36,
     "metadata": {},
     "output_type": "execute_result"
    }
   ],
   "source": [
    "ooo = np.ones((2,10))\n",
    "ooo, ooo.shape, ooo.dtype"
   ]
  },
  {
   "cell_type": "code",
   "execution_count": 37,
   "id": "79158585",
   "metadata": {},
   "outputs": [
    {
     "data": {
      "text/plain": [
       "array([0, 1, 2, 3, 4, 5, 6, 7, 8, 9])"
      ]
     },
     "execution_count": 37,
     "metadata": {},
     "output_type": "execute_result"
    }
   ],
   "source": [
    "np.arange(10)\n"
   ]
  },
  {
   "cell_type": "code",
   "execution_count": 38,
   "id": "f76dc2cb",
   "metadata": {},
   "outputs": [
    {
     "data": {
      "text/plain": [
       "array([ 4,  5,  6,  7,  8,  9, 10, 11])"
      ]
     },
     "execution_count": 38,
     "metadata": {},
     "output_type": "execute_result"
    }
   ],
   "source": [
    "np.arange(4,12)"
   ]
  },
  {
   "cell_type": "markdown",
   "id": "0150e6f0",
   "metadata": {},
   "source": [
    "## np.Array 연산"
   ]
  },
  {
   "cell_type": "code",
   "execution_count": 39,
   "id": "c00f4eb7",
   "metadata": {},
   "outputs": [
    {
     "data": {
      "text/plain": [
       "(array([[1, 2, 3],\n",
       "        [4, 5, 6]]),\n",
       " array([[10, 11, 12],\n",
       "        [13, 14, 15]]))"
      ]
     },
     "execution_count": 39,
     "metadata": {},
     "output_type": "execute_result"
    }
   ],
   "source": [
    "# np.Array 연산\n",
    "arr1 = np.array([[1,2,3],[4,5,6]])\n",
    "arr2 = np.array([[10,11,12],[13,14,15]])\n",
    "\n",
    "arr1, arr2"
   ]
  },
  {
   "cell_type": "code",
   "execution_count": 42,
   "id": "ddff7bb0",
   "metadata": {},
   "outputs": [
    {
     "name": "stdout",
     "output_type": "stream",
     "text": [
      "(2, 3) int64\n",
      "(2, 3) int64\n"
     ]
    }
   ],
   "source": [
    "print(arr1.shape, arr1.dtype)\n",
    "print(arr2.shape, arr2.dtype)\n"
   ]
  },
  {
   "cell_type": "code",
   "execution_count": null,
   "id": "e3bc8626",
   "metadata": {},
   "outputs": [
    {
     "name": "stdout",
     "output_type": "stream",
     "text": [
      "[[1 2 3]\n",
      " [4 5 6]]\n",
      "[[11 13 15]\n",
      " [17 19 21]]\n",
      "[[-9 -9 -9]\n",
      " [-9 -9 -9]]\n",
      "[[ 1.   2.9  4.8]\n",
      " [ 6.7  8.6 10.5]]\n",
      "[[23 35 47]\n",
      " [26 38 50]]\n"
     ]
    }
   ],
   "source": [
    "result0 = arr1\n",
    "result1 = arr1 + arr2\n",
    "result2 = arr1 - arr2\n",
    "result3 = arr1*2 - arr2/10\n",
    "\n",
    "\n",
    "print(result0)\n",
    "print(result1)\n",
    "print(result2)\n",
    "print(result3)\n",
    "\n",
    "\n",
    "#브로드캐스트 : 같은 크기의 배열을 가지지 않아도 요소별 연산이 가능함\n",
    "arr3 = np.array([22,33,44])\n",
    "print(arr1 + arr3)\n"
   ]
  },
  {
   "cell_type": "code",
   "execution_count": 49,
   "id": "e3b72b7a",
   "metadata": {},
   "outputs": [
    {
     "data": {
      "text/plain": [
       "(array([0, 1, 2, 3, 4]), (5,), dtype('int64'), 5, 1)"
      ]
     },
     "execution_count": 49,
     "metadata": {},
     "output_type": "execute_result"
    }
   ],
   "source": [
    "# 1차원과 속성들\n",
    "# shape : 배열의 차원정보\n",
    "# dtype : 배열 원소의 자료형\n",
    "# size : 배열의 원소 총 개수\n",
    "# ndim : 축의 개수\n",
    "\n",
    "arr = np.arange(5)\n",
    "arr, arr.shape, arr.dtype, arr.size, arr.ndim\n",
    "\n"
   ]
  },
  {
   "cell_type": "code",
   "execution_count": 50,
   "id": "464f9476",
   "metadata": {},
   "outputs": [
    {
     "name": "stdout",
     "output_type": "stream",
     "text": [
      "[1 2 3 4] int64\n",
      "['1' '2' 'a' 'b'] <U21\n",
      "['1' '2' '3' '4'] <U1\n"
     ]
    }
   ],
   "source": [
    "arr1 = np.array([1,2,3,4])\n",
    "arr2 = np.array([1,2,'a','b'])\n",
    "arr3 = np.array([1,2,3,4], dtype = 'str')\n",
    "\n",
    "print(arr1, arr1.dtype)\n",
    "print(arr2, arr2.dtype)\n",
    "print(arr3, arr3.dtype)\n"
   ]
  },
  {
   "cell_type": "code",
   "execution_count": 61,
   "id": "076e99de",
   "metadata": {},
   "outputs": [
    {
     "data": {
      "text/plain": [
       "array([[13, 13, 13],\n",
       "       [13, 13, 13],\n",
       "       [13, 13, 13]])"
      ]
     },
     "execution_count": 61,
     "metadata": {},
     "output_type": "execute_result"
    }
   ],
   "source": [
    "arr4 = np.full((3,3),13)\n",
    "arr4\n"
   ]
  },
  {
   "cell_type": "code",
   "execution_count": 62,
   "id": "af7690f7",
   "metadata": {},
   "outputs": [
    {
     "data": {
      "text/plain": [
       "array([['조인우', '조인우', '조인우'],\n",
       "       ['조인우', '조인우', '조인우'],\n",
       "       ['조인우', '조인우', '조인우']], dtype='<U3')"
      ]
     },
     "execution_count": 62,
     "metadata": {},
     "output_type": "execute_result"
    }
   ],
   "source": [
    "arr4_1 = np.full((3,3),\"조인우\")\n",
    "arr4_1"
   ]
  },
  {
   "cell_type": "code",
   "execution_count": 64,
   "id": "fec455ec",
   "metadata": {},
   "outputs": [
    {
     "data": {
      "text/plain": [
       "array([[1., 0., 0.],\n",
       "       [0., 1., 0.],\n",
       "       [0., 0., 1.]])"
      ]
     },
     "execution_count": 64,
     "metadata": {},
     "output_type": "execute_result"
    }
   ],
   "source": [
    "arr5 = np.eye(3)\n",
    "arr5"
   ]
  },
  {
   "cell_type": "code",
   "execution_count": 68,
   "id": "69a79a6d",
   "metadata": {},
   "outputs": [
    {
     "data": {
      "text/plain": [
       "array([  0,  20,  40,  60,  80, 100, 120, 140, 160, 180, 200, 220, 240,\n",
       "       260, 280])"
      ]
     },
     "execution_count": 68,
     "metadata": {},
     "output_type": "execute_result"
    }
   ],
   "source": [
    "arr6 = np.linspace(0,300,15, endpoint = False, dtype = \"int64\")\n",
    "arr6"
   ]
  },
  {
   "cell_type": "code",
   "execution_count": 67,
   "id": "7186286b",
   "metadata": {},
   "outputs": [
    {
     "data": {
      "text/plain": [
       "array([ 0, 20, 40, 60, 80])"
      ]
     },
     "execution_count": 67,
     "metadata": {},
     "output_type": "execute_result"
    }
   ],
   "source": [
    "arr7 = np.arange(0,100,20)\n",
    "arr7"
   ]
  },
  {
   "cell_type": "markdown",
   "id": "4a2aee2b",
   "metadata": {},
   "source": [
    "## 2차원"
   ]
  },
  {
   "cell_type": "code",
   "execution_count": 1,
   "id": "8036a4b7",
   "metadata": {},
   "outputs": [
    {
     "ename": "NameError",
     "evalue": "name 'np' is not defined",
     "output_type": "error",
     "traceback": [
      "\u001b[31m---------------------------------------------------------------------------\u001b[39m",
      "\u001b[31mNameError\u001b[39m                                 Traceback (most recent call last)",
      "\u001b[36mCell\u001b[39m\u001b[36m \u001b[39m\u001b[32mIn[1]\u001b[39m\u001b[32m, line 1\u001b[39m\n\u001b[32m----> \u001b[39m\u001b[32m1\u001b[39m arr20 = \u001b[43mnp\u001b[49m.array([[\u001b[32m1\u001b[39m,\u001b[32m2\u001b[39m],[\u001b[32m3\u001b[39m,\u001b[32m4\u001b[39m]])\n\u001b[32m      2\u001b[39m arr20, arr20.shape, arr20.size, arr20.dtype, arr20.ndim, \u001b[38;5;28mtype\u001b[39m(arr20)\n",
      "\u001b[31mNameError\u001b[39m: name 'np' is not defined"
     ]
    }
   ],
   "source": [
    "arr20 = np.array([[1,2],[3,4]])\n",
    "arr20, arr20.shape, arr20.size, arr20.dtype, arr20.ndim, type(arr20)\n"
   ]
  },
  {
   "cell_type": "code",
   "execution_count": null,
   "id": "80441c15",
   "metadata": {},
   "outputs": [
    {
     "name": "stdout",
     "output_type": "stream",
     "text": [
      "[[1 2 3]\n",
      " [4 5 6]\n",
      " [7 8 9]] (3, 3) 9 int64 2 <class 'numpy.ndarray'>\n",
      "[[ 1  2  3  4  5]\n",
      " [ 6  7  8  9 10]] (2, 5) 10 int64 2 <class 'numpy.ndarray'>\n"
     ]
    }
   ],
   "source": [
    "try:\n",
    "    arr21 = np.arange(1,10).reshape(3,3)\n",
    "    print(arr21, arr21.shape, arr21.size, arr21.dtype, arr21.ndim, type(arr21))\n",
    "\n",
    "    arr22 = np.arange(1,11).reshape(2,5)\n",
    "    print(arr22, arr22.shape, arr22.size, arr22.dtype, arr22.ndim, type(arr22))\n",
    "\n",
    "    arr23 = np.arange(1,19).reshape(3,6)\n",
    "    print(arr23, arr23.shape, arr23.size, arr23.dtype, arr23.ndim, type(arr23))\n",
    "\n",
    "    \n",
    "except ValueError as e:\n",
    "    print(\"차원과 사이즈가 맞지 않아요: \", e)\n"
   ]
  },
  {
   "cell_type": "code",
   "execution_count": null,
   "id": "c6fb9c59",
   "metadata": {},
   "outputs": [],
   "source": [
    "# 새로 진행"
   ]
  },
  {
   "cell_type": "markdown",
   "id": "029073b2",
   "metadata": {},
   "source": [
    "## 인덱싱 (마스크)"
   ]
  },
  {
   "cell_type": "code",
   "execution_count": 34,
   "id": "38064089",
   "metadata": {},
   "outputs": [
    {
     "data": {
      "text/plain": [
       "array([[-1.29731937, -0.56413646,  0.40471554, -1.15203944],\n",
       "       [ 0.47297263,  0.14836005,  1.01046628,  1.62019711],\n",
       "       [-1.0115531 , -1.80726294,  0.28445772, -1.84306556],\n",
       "       [-0.59332108,  0.79175196,  1.2162928 , -0.28645917],\n",
       "       [ 2.12667   , -1.20146914,  1.46531852,  1.16284572],\n",
       "       [-1.38709735,  1.18190988,  0.18672511,  0.34785954],\n",
       "       [-1.07580851, -0.52764759, -0.46745133, -0.34339246],\n",
       "       [-0.12538477,  1.6707089 , -0.35925318, -0.21763598]])"
      ]
     },
     "execution_count": 34,
     "metadata": {},
     "output_type": "execute_result"
    }
   ],
   "source": [
    "import numpy as np\n",
    "# 난수 발생\n",
    "\n",
    "ran_data = np.random.randn(8,4)\n",
    "ran_data"
   ]
  },
  {
   "cell_type": "code",
   "execution_count": 35,
   "id": "58cb2ff1",
   "metadata": {},
   "outputs": [
    {
     "data": {
      "text/plain": [
       "array([ True, False,  True, False, False,  True,  True, False])"
      ]
     },
     "execution_count": 35,
     "metadata": {},
     "output_type": "execute_result"
    }
   ],
   "source": [
    "mask = np.array([True,False,True,False,False,True,True,False])\n",
    "mask"
   ]
  },
  {
   "cell_type": "code",
   "execution_count": 36,
   "id": "3082bd50",
   "metadata": {},
   "outputs": [
    {
     "data": {
      "text/plain": [
       "array([[-1.29731937, -0.56413646,  0.40471554, -1.15203944],\n",
       "       [-1.0115531 , -1.80726294,  0.28445772, -1.84306556],\n",
       "       [-1.38709735,  1.18190988,  0.18672511,  0.34785954],\n",
       "       [-1.07580851, -0.52764759, -0.46745133, -0.34339246]])"
      ]
     },
     "execution_count": 36,
     "metadata": {},
     "output_type": "execute_result"
    }
   ],
   "source": [
    "ran_data[mask]\n",
    "\n"
   ]
  },
  {
   "cell_type": "code",
   "execution_count": 37,
   "id": "238365e0",
   "metadata": {},
   "outputs": [
    {
     "data": {
      "text/plain": [
       "array(['apple', 'banana', 'apple', 'kiwi', 'orange', 'apple', 'apple',\n",
       "       'melon'], dtype='<U6')"
      ]
     },
     "execution_count": 37,
     "metadata": {},
     "output_type": "execute_result"
    }
   ],
   "source": [
    "fruit = np.array(['apple','banana','apple','kiwi','orange','apple','apple','melon'])\n",
    "fruit"
   ]
  },
  {
   "cell_type": "code",
   "execution_count": 38,
   "id": "5c3b7a34",
   "metadata": {},
   "outputs": [
    {
     "data": {
      "text/plain": [
       "array([ True, False,  True, False, False,  True,  True, False])"
      ]
     },
     "execution_count": 38,
     "metadata": {},
     "output_type": "execute_result"
    }
   ],
   "source": [
    "fruit_mask = (fruit == 'apple')\n",
    "fruit_mask"
   ]
  },
  {
   "cell_type": "code",
   "execution_count": 39,
   "id": "c98e7a69",
   "metadata": {},
   "outputs": [
    {
     "data": {
      "text/plain": [
       "array([[-1.29731937, -0.56413646,  0.40471554, -1.15203944],\n",
       "       [-1.0115531 , -1.80726294,  0.28445772, -1.84306556],\n",
       "       [-1.38709735,  1.18190988,  0.18672511,  0.34785954],\n",
       "       [-1.07580851, -0.52764759, -0.46745133, -0.34339246]])"
      ]
     },
     "execution_count": 39,
     "metadata": {},
     "output_type": "execute_result"
    }
   ],
   "source": [
    "ran_data[fruit_mask]\n",
    "\n"
   ]
  },
  {
   "cell_type": "code",
   "execution_count": 40,
   "id": "fdc7ce24",
   "metadata": {},
   "outputs": [
    {
     "data": {
      "text/plain": [
       "array([[-0.56413646,  0.40471554],\n",
       "       [-1.80726294,  0.28445772],\n",
       "       [-1.20146914,  1.46531852],\n",
       "       [ 1.18190988,  0.18672511],\n",
       "       [-0.52764759, -0.46745133]])"
      ]
     },
     "execution_count": 40,
     "metadata": {},
     "output_type": "execute_result"
    }
   ],
   "source": [
    "ran_data[(fruit == 'apple')|(fruit == 'orange'), 1:-1] #ran_data[행,열]"
   ]
  },
  {
   "cell_type": "markdown",
   "id": "4b0a38f4",
   "metadata": {},
   "source": [
    "## 인덱스와 마스크의 응용"
   ]
  },
  {
   "cell_type": "code",
   "execution_count": 41,
   "id": "3feae9a5",
   "metadata": {},
   "outputs": [
    {
     "data": {
      "text/plain": [
       "array([False,  True, False, False,  True, False, False, False])"
      ]
     },
     "execution_count": 41,
     "metadata": {},
     "output_type": "execute_result"
    }
   ],
   "source": [
    "ran_data[:,0] > 0"
   ]
  },
  {
   "cell_type": "code",
   "execution_count": 42,
   "id": "d6a7778a",
   "metadata": {},
   "outputs": [
    {
     "data": {
      "text/plain": [
       "array([0.40471554, 0.47297263, 0.14836005, 1.01046628, 1.62019711,\n",
       "       0.28445772, 0.79175196, 1.2162928 , 2.12667   , 1.46531852,\n",
       "       1.16284572, 1.18190988, 0.18672511, 0.34785954, 1.6707089 ])"
      ]
     },
     "execution_count": 42,
     "metadata": {},
     "output_type": "execute_result"
    }
   ],
   "source": [
    "ran_data[ran_data[:,:] > 0]"
   ]
  },
  {
   "cell_type": "code",
   "execution_count": 44,
   "id": "bd7eb6b3",
   "metadata": {},
   "outputs": [
    {
     "data": {
      "text/plain": [
       "array([[[-1.29731937, -0.56413646,  0.40471554, -1.15203944],\n",
       "        [ 0.47297263,  0.14836005,  1.01046628,  1.62019711],\n",
       "        [-1.0115531 , -1.80726294,  0.28445772, -1.84306556],\n",
       "        [-0.59332108,  0.79175196,  1.2162928 , -0.28645917],\n",
       "        [ 2.12667   , -1.20146914,  1.46531852,  1.16284572],\n",
       "        [-1.38709735,  1.18190988,  0.18672511,  0.34785954],\n",
       "        [-1.07580851, -0.52764759, -0.46745133, -0.34339246],\n",
       "        [-0.12538477,  1.6707089 , -0.35925318, -0.21763598]]])"
      ]
     },
     "execution_count": 44,
     "metadata": {},
     "output_type": "execute_result"
    }
   ],
   "source": [
    "ran_data[ran_data[2,3] < 0]"
   ]
  },
  {
   "cell_type": "code",
   "execution_count": 45,
   "id": "6ccb7911",
   "metadata": {},
   "outputs": [
    {
     "data": {
      "text/plain": [
       "array([[False, False,  True, False],\n",
       "       [ True,  True,  True,  True],\n",
       "       [False, False,  True, False],\n",
       "       [False,  True,  True, False],\n",
       "       [ True, False,  True,  True],\n",
       "       [False,  True,  True,  True],\n",
       "       [False, False, False, False],\n",
       "       [False,  True, False, False]])"
      ]
     },
     "execution_count": 45,
     "metadata": {},
     "output_type": "execute_result"
    }
   ],
   "source": [
    "ran_data > 0"
   ]
  },
  {
   "cell_type": "code",
   "execution_count": 46,
   "id": "18eb7d7e",
   "metadata": {},
   "outputs": [
    {
     "data": {
      "text/plain": [
       "array([[False, False, False, False],\n",
       "       [False, False, False, False],\n",
       "       [False, False, False, False],\n",
       "       [False, False, False, False],\n",
       "       [False, False, False, False],\n",
       "       [False, False, False, False],\n",
       "       [False, False, False, False],\n",
       "       [False, False, False, False]])"
      ]
     },
     "execution_count": 46,
     "metadata": {},
     "output_type": "execute_result"
    }
   ],
   "source": [
    "np.isnan(ran_data)"
   ]
  },
  {
   "cell_type": "code",
   "execution_count": 48,
   "id": "208dd638",
   "metadata": {},
   "outputs": [
    {
     "data": {
      "text/plain": [
       "array([[-1.29731937, -0.56413646,  0.40471554, -1.15203944],\n",
       "       [ 0.47297263,  0.14836005,  1.01046628,  1.62019711],\n",
       "       [-1.0115531 , -1.80726294,  0.28445772, -1.84306556],\n",
       "       [-0.59332108,  0.79175196,  1.2162928 , -0.28645917],\n",
       "       [ 2.12667   , -1.20146914,  1.46531852,  1.16284572],\n",
       "       [-1.38709735,  1.18190988,  0.18672511,  0.34785954],\n",
       "       [-1.07580851, -0.52764759, -0.46745133, -0.34339246],\n",
       "       [-0.12538477,  1.6707089 , -0.35925318, -0.21763598]])"
      ]
     },
     "execution_count": 48,
     "metadata": {},
     "output_type": "execute_result"
    }
   ],
   "source": [
    "fix_data = ran_data[~np.isnan(ran_data).any(axis=1)]\n",
    "fix_data"
   ]
  },
  {
   "cell_type": "code",
   "execution_count": 51,
   "id": "4dccdde0",
   "metadata": {},
   "outputs": [
    {
     "data": {
      "text/plain": [
       "array([[1.29731937, 0.56413646, 0.40471554, 1.15203944],\n",
       "       [0.47297263, 0.14836005, 1.01046628, 1.62019711],\n",
       "       [1.0115531 , 1.80726294, 0.28445772, 1.84306556],\n",
       "       [0.59332108, 0.79175196, 1.2162928 , 0.28645917],\n",
       "       [2.12667   , 1.20146914, 1.46531852, 1.16284572],\n",
       "       [1.38709735, 1.18190988, 0.18672511, 0.34785954],\n",
       "       [1.07580851, 0.52764759, 0.46745133, 0.34339246],\n",
       "       [0.12538477, 1.6707089 , 0.35925318, 0.21763598]])"
      ]
     },
     "execution_count": 51,
     "metadata": {},
     "output_type": "execute_result"
    }
   ],
   "source": [
    "fix_data2 = np.abs(fix_data)\n",
    "fix_data2\n"
   ]
  },
  {
   "cell_type": "code",
   "execution_count": 53,
   "id": "3d2ec6fd",
   "metadata": {},
   "outputs": [
    {
     "name": "stderr",
     "output_type": "stream",
     "text": [
      "C:\\Users\\user\\AppData\\Local\\Temp\\ipykernel_20820\\2500786317.py:1: RuntimeWarning: invalid value encountered in sqrt\n",
      "  fix_data3 = np.sqrt(fix_data)\n"
     ]
    },
    {
     "data": {
      "text/plain": [
       "array([[       nan,        nan, 0.63617257,        nan],\n",
       "       [0.68773005, 0.38517535, 1.00521952, 1.27286964],\n",
       "       [       nan,        nan, 0.53334578,        nan],\n",
       "       [       nan, 0.88980445, 1.10285665,        nan],\n",
       "       [1.45831067,        nan, 1.21050342, 1.07835325],\n",
       "       [       nan, 1.08715679, 0.43211702, 0.58979618],\n",
       "       [       nan,        nan,        nan,        nan],\n",
       "       [       nan, 1.29255905,        nan,        nan]])"
      ]
     },
     "execution_count": 53,
     "metadata": {},
     "output_type": "execute_result"
    }
   ],
   "source": [
    "fix_data3 = np.sqrt(fix_data)\n",
    "fix_data3"
   ]
  },
  {
   "cell_type": "code",
   "execution_count": 54,
   "id": "57d9133e",
   "metadata": {},
   "outputs": [
    {
     "name": "stderr",
     "output_type": "stream",
     "text": [
      "C:\\Users\\user\\AppData\\Local\\Temp\\ipykernel_20820\\3733208986.py:1: RuntimeWarning: invalid value encountered in log\n",
      "  fix_data4 = np.log(fix_data)\n"
     ]
    }
   ],
   "source": [
    "fix_data4 = np.log(fix_data)"
   ]
  },
  {
   "cell_type": "code",
   "execution_count": 55,
   "id": "6766faa3",
   "metadata": {},
   "outputs": [
    {
     "data": {
      "text/plain": [
       "array([[nan, nan, -1., nan],\n",
       "       [-1., -1.,  1.,  1.],\n",
       "       [nan, nan, -1., nan],\n",
       "       [nan, -1.,  1., nan],\n",
       "       [ 1., nan,  1.,  1.],\n",
       "       [nan,  1., -1., -1.],\n",
       "       [nan, nan, nan, nan],\n",
       "       [nan,  1., nan, nan]])"
      ]
     },
     "execution_count": 55,
     "metadata": {},
     "output_type": "execute_result"
    }
   ],
   "source": [
    "fix_data5 = np.sign(fix_data4)\n",
    "fix_data5"
   ]
  },
  {
   "cell_type": "code",
   "execution_count": 56,
   "id": "415e66f5",
   "metadata": {},
   "outputs": [
    {
     "data": {
      "text/plain": [
       "array([[        nan,         nan,  0.61802304,         nan],\n",
       "       [ 0.73256229, -0.33095636,  0.9999458 ,  0.88581552],\n",
       "       [        nan,         nan,  0.30850947,         nan],\n",
       "       [        nan,  0.97286086,  0.98089087,         nan],\n",
       "       [ 0.7285748 ,         nan,  0.92789386,  0.98864066],\n",
       "       [        nan,  0.98606598, -0.10711549,  0.49239544],\n",
       "       [        nan,         nan,         nan,         nan],\n",
       "       [        nan,  0.87115429,         nan,         nan]])"
      ]
     },
     "execution_count": 56,
     "metadata": {},
     "output_type": "execute_result"
    }
   ],
   "source": [
    "np.cos(fix_data4)"
   ]
  },
  {
   "cell_type": "code",
   "execution_count": 57,
   "id": "0027eac9",
   "metadata": {},
   "outputs": [
    {
     "data": {
      "text/plain": [
       "(array([[-0.37922538, -1.95104913, -0.70917362,  0.38774734],\n",
       "        [-0.77675331,  1.03355775,  0.6878191 ,  0.85122026],\n",
       "        [ 0.01349798, -0.91712629, -1.17444077,  1.56399937],\n",
       "        [-0.15622601, -0.97245737, -0.64554368, -0.83406779],\n",
       "        [ 0.10563014, -0.18457343,  0.06201068,  0.36475097],\n",
       "        [ 0.74942392, -0.33081513,  0.6921769 , -0.76088452],\n",
       "        [ 1.20665689, -1.7204317 ,  0.67188953, -0.6757221 ],\n",
       "        [ 0.4856411 ,  0.60345571,  0.74615349, -1.04062941]]),\n",
       " array([[-0.66138499,  0.04167097,  0.39432413,  0.71191735],\n",
       "        [-0.37493968,  0.00753493,  0.51002068,  0.5349258 ],\n",
       "        [ 1.4447368 , -0.21468165,  0.52125795, -1.32479562],\n",
       "        [ 1.01340874,  1.32463023, -2.65975722,  1.79295523],\n",
       "        [-1.30911628, -0.65449304,  1.9761999 , -0.7816918 ],\n",
       "        [ 0.09337877, -0.30990669,  0.73986889,  1.19504011],\n",
       "        [-0.96296718,  0.6399715 ,  0.00836007,  0.86188579],\n",
       "        [-1.84698439,  1.63062609,  0.07653219,  1.02292841]]))"
      ]
     },
     "execution_count": 57,
     "metadata": {},
     "output_type": "execute_result"
    }
   ],
   "source": [
    "# 두 개의 array에 동일한 위치의 요소끼리 비교하기\n",
    "\n",
    "data1 = np.random.randn(8,4)\n",
    "data2 = np.random.randn(8,4)\n",
    "data1, data2"
   ]
  },
  {
   "cell_type": "code",
   "execution_count": 58,
   "id": "d30374e0",
   "metadata": {},
   "outputs": [
    {
     "data": {
      "text/plain": [
       "array([[-0.37922538,  0.04167097,  0.39432413,  0.71191735],\n",
       "       [-0.37493968,  1.03355775,  0.6878191 ,  0.85122026],\n",
       "       [ 1.4447368 , -0.21468165,  0.52125795,  1.56399937],\n",
       "       [ 1.01340874,  1.32463023, -0.64554368,  1.79295523],\n",
       "       [ 0.10563014, -0.18457343,  1.9761999 ,  0.36475097],\n",
       "       [ 0.74942392, -0.30990669,  0.73986889,  1.19504011],\n",
       "       [ 1.20665689,  0.6399715 ,  0.67188953,  0.86188579],\n",
       "       [ 0.4856411 ,  1.63062609,  0.74615349,  1.02292841]])"
      ]
     },
     "execution_count": 58,
     "metadata": {},
     "output_type": "execute_result"
    }
   ],
   "source": [
    "np.maximum(data1, data2)"
   ]
  },
  {
   "cell_type": "code",
   "execution_count": 59,
   "id": "13b66e24",
   "metadata": {},
   "outputs": [
    {
     "data": {
      "text/plain": [
       "array([[-0.66138499, -1.95104913, -0.70917362,  0.38774734],\n",
       "       [-0.77675331,  0.00753493,  0.51002068,  0.5349258 ],\n",
       "       [ 0.01349798, -0.91712629, -1.17444077, -1.32479562],\n",
       "       [-0.15622601, -0.97245737, -2.65975722, -0.83406779],\n",
       "       [-1.30911628, -0.65449304,  0.06201068, -0.7816918 ],\n",
       "       [ 0.09337877, -0.33081513,  0.6921769 , -0.76088452],\n",
       "       [-0.96296718, -1.7204317 ,  0.00836007, -0.6757221 ],\n",
       "       [-1.84698439,  0.60345571,  0.07653219, -1.04062941]])"
      ]
     },
     "execution_count": 59,
     "metadata": {},
     "output_type": "execute_result"
    }
   ],
   "source": [
    "np.minimum(data1, data2)"
   ]
  },
  {
   "cell_type": "code",
   "execution_count": 60,
   "id": "f7c577db",
   "metadata": {},
   "outputs": [
    {
     "data": {
      "text/plain": [
       "array([[0.        , 0.        , 0.        , 0.38774734],\n",
       "       [0.        , 1.03355775, 0.6878191 , 0.85122026],\n",
       "       [0.01349798, 0.        , 0.        , 1.56399937],\n",
       "       [0.        , 0.        , 0.        , 0.        ],\n",
       "       [0.10563014, 0.        , 0.06201068, 0.36475097],\n",
       "       [0.74942392, 0.        , 0.6921769 , 0.        ],\n",
       "       [1.20665689, 0.        , 0.67188953, 0.        ],\n",
       "       [0.4856411 , 0.60345571, 0.74615349, 0.        ]])"
      ]
     },
     "execution_count": 60,
     "metadata": {},
     "output_type": "execute_result"
    }
   ],
   "source": [
    "np.maximum(data1, 0) # ReLU(x) 같다.\n"
   ]
  },
  {
   "cell_type": "code",
   "execution_count": 61,
   "id": "c0168157",
   "metadata": {},
   "outputs": [
    {
     "data": {
      "text/plain": [
       "array([[0.5       , 0.5       , 0.5       , 0.71191735],\n",
       "       [0.5       , 0.5       , 0.51002068, 0.5349258 ],\n",
       "       [1.4447368 , 0.5       , 0.52125795, 0.5       ],\n",
       "       [1.01340874, 1.32463023, 0.5       , 1.7       ],\n",
       "       [0.5       , 0.5       , 1.7       , 0.5       ],\n",
       "       [0.5       , 0.5       , 0.73986889, 1.19504011],\n",
       "       [0.5       , 0.6399715 , 0.5       , 0.86188579],\n",
       "       [0.5       , 1.63062609, 0.5       , 1.02292841]])"
      ]
     },
     "execution_count": 61,
     "metadata": {},
     "output_type": "execute_result"
    }
   ],
   "source": [
    "np.minimum(np.maximum(data2,0.5),1.7)"
   ]
  },
  {
   "cell_type": "code",
   "execution_count": 62,
   "id": "a898cd4e",
   "metadata": {},
   "outputs": [
    {
     "data": {
      "text/plain": [
       "array([[-0.1895243 , -1.71833877, -1.73612218,  1.46284846],\n",
       "       [-0.768619  ,  0.27657523,  0.62543917,  0.71578918],\n",
       "       [-1.08251421, -0.49868763, -1.32583933,  0.68940933],\n",
       "       [ 0.64045192,  1.89307414, -0.15716385, -1.46443649]])"
      ]
     },
     "execution_count": 62,
     "metadata": {},
     "output_type": "execute_result"
    }
   ],
   "source": [
    "data = np.random.randn(4,4)\n",
    "data"
   ]
  },
  {
   "cell_type": "code",
   "execution_count": 63,
   "id": "22d24048",
   "metadata": {},
   "outputs": [
    {
     "data": {
      "text/plain": [
       "np.float64(-2.6376583451326496)"
      ]
     },
     "execution_count": 63,
     "metadata": {},
     "output_type": "execute_result"
    }
   ],
   "source": [
    "np.sum(data)\n"
   ]
  },
  {
   "cell_type": "code",
   "execution_count": 65,
   "id": "831a71e1",
   "metadata": {},
   "outputs": [
    {
     "data": {
      "text/plain": [
       "array([-1.40020559, -0.04737703, -2.59368619,  1.40361047])"
      ]
     },
     "execution_count": 65,
     "metadata": {},
     "output_type": "execute_result"
    }
   ],
   "source": [
    "np.sum(data, axis = 0)\n"
   ]
  },
  {
   "cell_type": "code",
   "execution_count": 66,
   "id": "838c680b",
   "metadata": {},
   "outputs": [
    {
     "data": {
      "text/plain": [
       "array([-2.18113679,  0.84918457, -2.21763184,  0.91192572])"
      ]
     },
     "execution_count": 66,
     "metadata": {},
     "output_type": "execute_result"
    }
   ],
   "source": [
    "np.sum(data, axis = 1)"
   ]
  },
  {
   "cell_type": "code",
   "execution_count": 70,
   "id": "74eaf0b8",
   "metadata": {},
   "outputs": [
    {
     "data": {
      "text/plain": [
       "array([-3.45446095,  0.9020144 , -1.82452696,  1.73591029])"
      ]
     },
     "execution_count": 70,
     "metadata": {},
     "output_type": "execute_result"
    }
   ],
   "source": [
    "np.sum(data[:,1:3], axis = 1)"
   ]
  },
  {
   "cell_type": "code",
   "execution_count": 71,
   "id": "43ba91db",
   "metadata": {},
   "outputs": [
    {
     "data": {
      "text/plain": [
       "np.float64(0.1700454993225392)"
      ]
     },
     "execution_count": 71,
     "metadata": {},
     "output_type": "execute_result"
    }
   ],
   "source": [
    "np.mean(data2)"
   ]
  },
  {
   "cell_type": "code",
   "execution_count": 73,
   "id": "8c14b0ed",
   "metadata": {},
   "outputs": [
    {
     "data": {
      "text/plain": [
       "np.float64(0.1700454993225392)"
      ]
     },
     "execution_count": 73,
     "metadata": {},
     "output_type": "execute_result"
    }
   ],
   "source": [
    "np.mean(data2)"
   ]
  },
  {
   "cell_type": "code",
   "execution_count": 74,
   "id": "d76ce98f",
   "metadata": {},
   "outputs": [
    {
     "data": {
      "text/plain": [
       "array([-0.32548353,  0.30816904,  0.19585082,  0.50164566])"
      ]
     },
     "execution_count": 74,
     "metadata": {},
     "output_type": "execute_result"
    }
   ],
   "source": [
    "np.mean(data2, axis = 0)"
   ]
  },
  {
   "cell_type": "code",
   "execution_count": 75,
   "id": "5a3cbd0c",
   "metadata": {},
   "outputs": [
    {
     "data": {
      "text/plain": [
       "array([ 0.12163186,  0.16938543,  0.10662937,  0.36780925, -0.19227531,\n",
       "        0.42959527,  0.13681254,  0.22077557])"
      ]
     },
     "execution_count": 75,
     "metadata": {},
     "output_type": "execute_result"
    }
   ],
   "source": [
    "np.mean(data2, axis = 1)"
   ]
  },
  {
   "cell_type": "code",
   "execution_count": 76,
   "id": "333755f3",
   "metadata": {},
   "outputs": [
    {
     "data": {
      "text/plain": [
       "array([-0.66138499, -0.37493968, -1.32479562, -2.65975722, -1.30911628,\n",
       "       -0.30990669, -0.96296718, -1.84698439])"
      ]
     },
     "execution_count": 76,
     "metadata": {},
     "output_type": "execute_result"
    }
   ],
   "source": [
    "np.min(data2, axis = 1)"
   ]
  },
  {
   "cell_type": "code",
   "execution_count": 77,
   "id": "5c59b5a8",
   "metadata": {},
   "outputs": [
    {
     "data": {
      "text/plain": [
       "np.float64(1.061176234773299)"
      ]
     },
     "execution_count": 77,
     "metadata": {},
     "output_type": "execute_result"
    }
   ],
   "source": [
    "# 표준편차\n",
    "np.std(data2)"
   ]
  },
  {
   "cell_type": "code",
   "execution_count": 78,
   "id": "f27c7720",
   "metadata": {},
   "outputs": [
    {
     "data": {
      "text/plain": [
       "np.float64(1.1260950012476356)"
      ]
     },
     "execution_count": 78,
     "metadata": {},
     "output_type": "execute_result"
    }
   ],
   "source": [
    "# 분산\n",
    "np.var(data2)"
   ]
  },
  {
   "cell_type": "code",
   "execution_count": 80,
   "id": "e2740bd7",
   "metadata": {},
   "outputs": [
    {
     "data": {
      "text/plain": [
       "array([[-1.84698439, -0.65449304, -2.65975722, -1.32479562],\n",
       "       [-1.30911628, -0.30990669,  0.00836007, -0.7816918 ],\n",
       "       [-0.96296718, -0.21468165,  0.07653219,  0.5349258 ],\n",
       "       [-0.66138499,  0.00753493,  0.39432413,  0.71191735],\n",
       "       [-0.37493968,  0.04167097,  0.51002068,  0.86188579],\n",
       "       [ 0.09337877,  0.6399715 ,  0.52125795,  1.02292841],\n",
       "       [ 1.01340874,  1.32463023,  0.73986889,  1.19504011],\n",
       "       [ 1.4447368 ,  1.63062609,  1.9761999 ,  1.79295523]])"
      ]
     },
     "execution_count": 80,
     "metadata": {},
     "output_type": "execute_result"
    }
   ],
   "source": [
    "np.sort(data2, axis = 0)"
   ]
  },
  {
   "cell_type": "code",
   "execution_count": 81,
   "id": "6b80b6d8",
   "metadata": {},
   "outputs": [
    {
     "data": {
      "text/plain": [
       "array([[-1.84698439,  0.07653219,  1.02292841,  1.63062609],\n",
       "       [-0.96296718,  0.00836007,  0.6399715 ,  0.86188579],\n",
       "       [-0.30990669,  0.09337877,  0.73986889,  1.19504011],\n",
       "       [-1.30911628, -0.7816918 , -0.65449304,  1.9761999 ],\n",
       "       [-2.65975722,  1.01340874,  1.32463023,  1.79295523],\n",
       "       [-1.32479562, -0.21468165,  0.52125795,  1.4447368 ],\n",
       "       [-0.37493968,  0.00753493,  0.51002068,  0.5349258 ],\n",
       "       [-0.66138499,  0.04167097,  0.39432413,  0.71191735]])"
      ]
     },
     "execution_count": 81,
     "metadata": {},
     "output_type": "execute_result"
    }
   ],
   "source": [
    "np.sort(data2)[::-1]"
   ]
  },
  {
   "cell_type": "code",
   "execution_count": 84,
   "id": "426a4275",
   "metadata": {},
   "outputs": [
    {
     "name": "stdout",
     "output_type": "stream",
     "text": [
      "각 학생의 평균점수: [88.75 82.5  90.25 73.75 86.5 ]\n",
      "표준편차가 가장 낮은 학생: student3, 점수: [92 88 91 90], 표준편차: 1.48\n",
      "90점 이상이 가장 많은 학생: student3, 점수: [92 88 91 90], 90점 이상 개수: 3\n"
     ]
    }
   ],
   "source": [
    "import numpy as np\n",
    "\n",
    "student1 = [85,90,88,92]\n",
    "student2 = [78,81,85,86]\n",
    "student3 = [92,88,91,90]\n",
    "student4 = [70,75,72,78]\n",
    "student5 = [88,85,84,89]\n",
    "\n",
    "sc_stu = np.array([student1,student2,student3,student4,student5])\n",
    "\n",
    "# 1. 각 학생의 평균점수\n",
    "avg_stu = np.mean(sc_stu, axis=1)\n",
    "print('각 학생의 평균점수:', avg_stu)\n",
    "\n",
    "# 2. 표준편차가 가장 낮은 학생 찾기\n",
    "std_stu = np.std(sc_stu, axis=1)\n",
    "min_std_idx = np.argmin(std_stu)\n",
    "print(f'표준편차가 가장 낮은 학생: student{min_std_idx+1}, 점수: {sc_stu[min_std_idx]}, 표준편차: {std_stu[min_std_idx]:.2f}')\n",
    "\n",
    "# 3. 90점 이상이 가장 많은 학생의 점수 나열\n",
    "count_90 = (sc_stu >= 90).sum(axis=1)\n",
    "max_90_idx = np.argmax(count_90)\n",
    "print(f'90점 이상이 가장 많은 학생: student{max_90_idx+1}, 점수: {sc_stu[max_90_idx]}, 90점 이상 개수: {count_90[max_90_idx]}')\n",
    "\n"
   ]
  },
  {
   "cell_type": "code",
   "execution_count": null,
   "id": "6d561d17",
   "metadata": {},
   "outputs": [],
   "source": [
    "b1r1 = np.arrange(1,10).reshape(3,3)\n",
    "br2 = np.array([11,22,33])\n",
    "\n",
    "\n"
   ]
  },
  {
   "cell_type": "code",
   "execution_count": null,
   "id": "766797bd",
   "metadata": {},
   "outputs": [
    {
     "data": {
      "text/plain": [
       "np.float64(1.061176234773299)"
      ]
     },
     "metadata": {},
     "output_type": "display_data"
    }
   ],
   "source": [
    "# 표준편차\n",
    "np.std(data2)"
   ]
  },
  {
   "cell_type": "code",
   "execution_count": null,
   "id": "a72a4891",
   "metadata": {},
   "outputs": [
    {
     "data": {
      "text/plain": [
       "np.float64(1.061176234773299)"
      ]
     },
     "metadata": {},
     "output_type": "display_data"
    }
   ],
   "source": [
    "# 표준편차\n",
    "np.std(data2)"
   ]
  }
 ],
 "metadata": {
  "kernelspec": {
   "display_name": "Python 3",
   "language": "python",
   "name": "python3"
  },
  "language_info": {
   "codemirror_mode": {
    "name": "ipython",
    "version": 3
   },
   "file_extension": ".py",
   "mimetype": "text/x-python",
   "name": "python",
   "nbconvert_exporter": "python",
   "pygments_lexer": "ipython3",
   "version": "3.13.3"
  }
 },
 "nbformat": 4,
 "nbformat_minor": 5
}
